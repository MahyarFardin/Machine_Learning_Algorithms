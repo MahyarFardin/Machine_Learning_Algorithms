{
 "cells": [
  {
   "cell_type": "code",
   "execution_count": 8,
   "id": "904fea41-f716-40b5-b298-45c8686fb944",
   "metadata": {},
   "outputs": [],
   "source": [
    "import numpy as np\n",
    "import matplotlib.pyplot as plt"
   ]
  },
  {
   "cell_type": "code",
   "execution_count": 140,
   "id": "0726d8e4-b0ea-4859-a4cf-a158399aae45",
   "metadata": {},
   "outputs": [],
   "source": [
    "# sigmoid function in lambda form\n",
    "sigmoid = lambda x: 1 / (1 + np.exp(-x))"
   ]
  },
  {
   "cell_type": "code",
   "execution_count": 292,
   "id": "2f81192a-4c18-4022-8015-c8c565244832",
   "metadata": {},
   "outputs": [],
   "source": [
    "# for furthur details fallow linear regression notebook\n",
    "\n",
    "def logistic_regression(x, y, learning_rate = .001, iteration = 100):\n",
    "    instances, features = x.shape\n",
    "    w = np.zeros(features)\n",
    "    b = 0\n",
    "    for i in range(iteration): \n",
    "        z = np.dot(x, w) + b\n",
    "        prediction = sigmoid(z)\n",
    "        error = prediction - y\n",
    "        grad_w = (1 / instances) * np.dot(x.T, error)\n",
    "        grad_b = (1 / instances) * np.sum(error)\n",
    "        w -= learning_rate * grad_w\n",
    "        b -= learning_rate * grad_b\n",
    "    return w, b"
   ]
  },
  {
   "cell_type": "code",
   "execution_count": 272,
   "id": "6cd2b3ba-37c9-4cd4-b172-951a4a9d9c9a",
   "metadata": {},
   "outputs": [],
   "source": [
    "# generating a random batch of 2-d data and projecting it on to a sigmoid function\n",
    "w = np.random.rand(2)\n",
    "b = np.random.rand()\n",
    "x = (np.random.rand(100, 2) * 100) - 50 \n",
    "y = np.dot(x, w) + b      \n",
    "# softmax operation\n",
    "y = [1 if i > .5 else 0 for i in sigmoid(y)]"
   ]
  },
  {
   "cell_type": "code",
   "execution_count": 274,
   "id": "102d76b9-d86f-4ce4-b8c6-617834dae536",
   "metadata": {},
   "outputs": [
    {
     "data": {
      "text/plain": [
       "<matplotlib.collections.PathCollection at 0x7f7ad0dcb880>"
      ]
     },
     "execution_count": 274,
     "metadata": {},
     "output_type": "execute_result"
    },
    {
     "data": {
      "image/png": "[encoded data removed]",
      "text/plain": [
       "<Figure size 640x480 with 1 Axes>"
      ]
     },
     "metadata": {},
     "output_type": "display_data"
    }
   ],
   "source": [
    "plt.scatter(x[:, 1], y)"
   ]
  },
  {
   "cell_type": "code",
   "execution_count": 347,
   "id": "693114b2-b307-46bc-a295-cf7d72a8b5bc",
   "metadata": {},
   "outputs": [],
   "source": [
    "w_prediction, b_prediction = logistic_regression(x, y, .001, 1000)"
   ]
  },
  {
   "cell_type": "code",
   "execution_count": 348,
   "id": "28de0321-c61a-4551-9238-95c1af23ddd9",
   "metadata": {},
   "outputs": [
    {
     "name": "stdout",
     "output_type": "stream",
     "text": [
      "[0.01290724 0.3542816 ]\n",
      "[-0.00114974  0.35899955]\n"
     ]
    }
   ],
   "source": [
    "# main weights vs prediction weights\n",
    "print(w)\n",
    "print(w_prediction)"
   ]
  },
  {
   "cell_type": "code",
   "execution_count": 349,
   "id": "0e85fbad-8859-444a-8160-aba8247908ef",
   "metadata": {},
   "outputs": [
    {
     "name": "stdout",
     "output_type": "stream",
     "text": [
      "0.7164605067114209\n",
      "0.022047082247805435\n"
     ]
    }
   ],
   "source": [
    "# main bais vs prediction bais\n",
    "print(b)\n",
    "print(b_prediction)"
   ]
  },
  {
   "cell_type": "code",
   "execution_count": 353,
   "id": "9e9e194a-dd84-4eb8-b97e-4d5181d0a3d5",
   "metadata": {},
   "outputs": [
    {
     "data": {
      "text/plain": [
       "0.9736245832778757"
      ]
     },
     "execution_count": 353,
     "metadata": {},
     "output_type": "execute_result"
    }
   ],
   "source": [
    "# prediction \n",
    "z = np.dot([3, 10], w_prediction) + b_prediction\n",
    "sigmoid(z)"
   ]
  },
  {
   "cell_type": "code",
   "execution_count": 354,
   "id": "0b373989-0e2a-42b6-a457-677df9e2e02f",
   "metadata": {},
   "outputs": [
    {
     "data": {
      "text/plain": [
       "0.9865866178914093"
      ]
     },
     "execution_count": 354,
     "metadata": {},
     "output_type": "execute_result"
    }
   ],
   "source": [
    "# real value\n",
    "z = np.dot([3, 10], w) + b\n",
    "sigmoid(z)"
   ]
  }
 ],
 "metadata": {
  "kernelspec": {
   "display_name": "Python 3 (ipykernel)",
   "language": "python",
   "name": "python3"
  },
  "language_info": {
   "codemirror_mode": {
    "name": "ipython",
    "version": 3
   },
   "file_extension": ".py",
   "mimetype": "text/x-python",
   "name": "python",
   "nbconvert_exporter": "python",
   "pygments_lexer": "ipython3",
   "version": "3.9.13"
  }
 },
 "nbformat": 4,
 "nbformat_minor": 5
}
