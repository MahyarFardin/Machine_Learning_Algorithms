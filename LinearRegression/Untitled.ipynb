{
 "cells": [
  {
   "cell_type": "code",
   "execution_count": 1,
   "id": "4e847f62-f66a-48c5-8d0c-5225321977cf",
   "metadata": {},
   "outputs": [],
   "source": [
    "import numpy as np\n",
    "import matplotlib.pyplot as plt"
   ]
  },
  {
   "cell_type": "code",
   "execution_count": 2,
   "id": "a3ce5fd7-588c-410b-bd2d-3b78cfe47c8d",
   "metadata": {},
   "outputs": [],
   "source": [
    "def linear_regression(x, y, epochs = 10, learning_rate = .1):\n",
    "    x_dim, y_dim = x.shape\n",
    "    \n",
    "    w = np.zeros(y_dim)\n",
    "    b = 0\n",
    "    \n",
    "    for i in range(epochs):\n",
    "        # prediction calculation\n",
    "        prediction = np.dot(x, w) + b\n",
    "        error = prediction - y\n",
    "        # gradient calculation\n",
    "        w_gradient = (1 / x_dim) * np.dot(x.T, error)\n",
    "        b_gradient = (1 / x_dim) * np.sum(error)\n",
    "        print(w_gradient)\n",
    "        # gradient descent\n",
    "        b -= learning_rate * b_gradient\n",
    "        w -= learning_rate * w_gradient\n",
    "    \n",
    "    return w, b\n",
    "        "
   ]
  },
  {
   "cell_type": "code",
   "execution_count": 3,
   "id": "d78eae14-a0b5-4e96-91cf-cb666b6613cc",
   "metadata": {},
   "outputs": [],
   "source": [
    "w = np.random.rand(2)\n",
    "b = np.random.rand()\n",
    "x = np.random.rand(100, 2)\n",
    "y = np.dot(x, w) + b      \n",
    "# adding noise\n",
    "# y = [i + np.random.uniform(1, np.mean(y)) for i in y]\n",
    "\n",
    "xtrain = x[ : 90]\n",
    "ytrain = y[ : 90]\n",
    "xtest = x[90: ]\n",
    "ytest = y[90: ]"
   ]
  },
  {
   "cell_type": "code",
   "execution_count": null,
   "id": "9be67af3-ff0e-44f0-a83f-6513a0e4a2ab",
   "metadata": {},
   "outputs": [],
   "source": [
    "w_prediction, b_prediction = linear_regression(xtrain, ytrain, 100, 1.1)"
   ]
  },
  {
   "cell_type": "code",
   "execution_count": 5,
   "id": "aa7433d2-0e8f-4e08-8d42-559075c2316f",
   "metadata": {},
   "outputs": [
    {
     "name": "stdout",
     "output_type": "stream",
     "text": [
      "[0.48973953 0.44553581]\n",
      "[0.48750284 0.44342136]\n"
     ]
    }
   ],
   "source": [
    "print(w)\n",
    "print(w_prediction)"
   ]
  },
  {
   "cell_type": "code",
   "execution_count": 6,
   "id": "c68c4d68-0a42-458d-b3d8-8b8226debde0",
   "metadata": {},
   "outputs": [
    {
     "name": "stdout",
     "output_type": "stream",
     "text": [
      "0.14878836615087676\n",
      "0.15111871150274175\n"
     ]
    }
   ],
   "source": [
    "print(b)\n",
    "print(b_prediction)"
   ]
  },
  {
   "cell_type": "code",
   "execution_count": 7,
   "id": "a3641138-999e-4647-b695-587daef047c3",
   "metadata": {},
   "outputs": [],
   "source": [
    "prediction = np.dot(xtest, w_prediction) + b_prediction"
   ]
  },
  {
   "cell_type": "code",
   "execution_count": 8,
   "id": "162ef0d3-f6c9-4a86-87df-47a0a87adcd6",
   "metadata": {},
   "outputs": [
    {
     "data": {
      "text/plain": [
       "5.012622992962031e-07"
      ]
     },
     "execution_count": 8,
     "metadata": {},
     "output_type": "execute_result"
    }
   ],
   "source": [
    "np.mean((prediction - ytest) ** 2)"
   ]
  },
  {
   "cell_type": "code",
   "execution_count": 9,
   "id": "6dc79374-52a9-4d66-88ff-e2fcc8428338",
   "metadata": {},
   "outputs": [
    {
     "data": {
      "text/plain": [
       "<matplotlib.collections.PathCollection at 0x7fe53e8243a0>"
      ]
     },
     "execution_count": 9,
     "metadata": {},
     "output_type": "execute_result"
    },
    {
     "data": {
      "image/png": "[encoded data removed]",
      "text/plain": [
       "<Figure size 640x480 with 1 Axes>"
      ]
     },
     "metadata": {},
     "output_type": "display_data"
    }
   ],
   "source": [
    "plt.scatter(xtest[:, 0], ytest)\n",
    "plt.scatter(xtest[:, 0], prediction)"
   ]
  }
 ],
 "metadata": {
  "kernelspec": {
   "display_name": "Python 3 (ipykernel)",
   "language": "python",
   "name": "python3"
  },
  "language_info": {
   "codemirror_mode": {
    "name": "ipython",
    "version": 3
   },
   "file_extension": ".py",
   "mimetype": "text/x-python",
   "name": "python",
   "nbconvert_exporter": "python",
   "pygments_lexer": "ipython3",
   "version": "3.9.13"
  }
 },
 "nbformat": 4,
 "nbformat_minor": 5
}
