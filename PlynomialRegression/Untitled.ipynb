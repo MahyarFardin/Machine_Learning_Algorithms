{
 "cells": [
  {
   "cell_type": "code",
   "execution_count": 1,
   "id": "cb98f891-864b-4615-a6f1-6e50780eea1f",
   "metadata": {},
   "outputs": [],
   "source": [
    "import numpy as np\n",
    "import matplotlib.pyplot as plt"
   ]
  },
  {
   "cell_type": "code",
   "execution_count": 122,
   "id": "28f8f2b8-32ac-4a3a-8a0d-7a17f59f3f45",
   "metadata": {},
   "outputs": [],
   "source": [
    "def polynomial_regression(x, y, deg, lr, epochs):\n",
    "    w = np.zeros(deg)\n",
    "    b = 0\n",
    "    \n",
    "    for i in range(epochs):\n",
    "        prediction = np.polyval(np.append(w, b), x) \n",
    "        print(w, b)\n",
    "        error = prediction - y\n",
    "        # gradient calculation\n",
    "        w_gradient = (1 / len(x)) * np.dot(x.T, error)\n",
    "        b_gradient = (1 / len(x)) * np.sum(error) ** 2\n",
    "        # applying gradient descent\n",
    "        w -= lr * w_gradient\n",
    "        b -= lr * b_gradient\n",
    "    return w, b"
   ]
  },
  {
   "cell_type": "code",
   "execution_count": 123,
   "id": "a22b4581-0f5b-4ea6-83b9-2062cc6743de",
   "metadata": {},
   "outputs": [
    {
     "name": "stdout",
     "output_type": "stream",
     "text": [
      "3\n",
      "[0.58110683 0.88147775 0.77518195]\n"
     ]
    }
   ],
   "source": [
    "deg = np.random.randint(2, 10)\n",
    "x = np.linspace(-100, 100, 201)\n",
    "coeffs = np.random.rand(deg)\n",
    "y = np.polyval(coeffs, x) \n",
    "print(deg)\n",
    "print(coeffs)"
   ]
  },
  {
   "cell_type": "code",
   "execution_count": 124,
   "id": "f6f7c555-f364-4741-a88b-e5e6457dfe3b",
   "metadata": {},
   "outputs": [
    {
     "data": {
      "text/plain": [
       "<matplotlib.collections.PathCollection at 0x7f5ed34a9700>"
      ]
     },
     "execution_count": 124,
     "metadata": {},
     "output_type": "execute_result"
    },
    {
     "data": {
      "image/png": "[encoded data removed]",
      "text/plain": [
       "<Figure size 640x480 with 1 Axes>"
      ]
     },
     "metadata": {},
     "output_type": "display_data"
    }
   ],
   "source": [
    "plt.scatter(x, y)"
   ]
  },
  {
   "cell_type": "code",
   "execution_count": 125,
   "id": "e08e7325-ed5c-4000-b3e6-5090901603d4",
   "metadata": {},
   "outputs": [],
   "source": [
    "lim = 180\n",
    "xtrain, ytrain, xtest, ytest = x[: lim], y[: lim], x[lim: ], y[lim: ]"
   ]
  },
  {
   "cell_type": "code",
   "execution_count": 126,
   "id": "1a5ae152-b6a2-4839-9ee9-d378d4a665d1",
   "metadata": {},
   "outputs": [
    {
     "name": "stdout",
     "output_type": "stream",
     "text": [
      "[0. 0. 0.] 0\n",
      "[-0.04762535 -0.04762535 -0.04762535] -475.0356679235659\n",
      "[0.60630284 0.60630284 0.60630284] -1106.260337374895\n",
      "[-8.44768657 -8.44768657 -8.44768657] -512460.2797480694\n",
      "[111.4487079 111.4487079 111.4487079] -7044520.674287654\n",
      "[-1615.95311784 -1615.95311784 -1615.95311784] -48075440286.818184\n",
      "[-482434.80457515 -482434.80457515 -482434.80457515] -4.136953350720919e+17\n",
      "[-4.34379434e+12 -4.34379434e+12 -4.34379434e+12] -3.0805883454270833e+31\n",
      "[-3.23461776e+26 -3.23461776e+26 -3.23461776e+26] -1.708204419716572e+59\n",
      "[-1.79361464e+54 -1.79361464e+54 -1.79361464e+54] -5.252332211170611e+114\n"
     ]
    }
   ],
   "source": [
    "w, b = polynomial_regression(xtrain, ytrain, deg, .000001, 10)"
   ]
  },
  {
   "cell_type": "code",
   "execution_count": 127,
   "id": "5681844d-8445-45bb-964c-d02ad4a642af",
   "metadata": {},
   "outputs": [],
   "source": [
    "prediction = np.polyval(np.append(w, b), x)"
   ]
  },
  {
   "cell_type": "code",
   "execution_count": 128,
   "id": "2cbb5578-6ef3-4ddf-b91a-8e4d090832b7",
   "metadata": {},
   "outputs": [
    {
     "data": {
      "text/plain": [
       "-4.9656588581700643e+225"
      ]
     },
     "execution_count": 128,
     "metadata": {},
     "output_type": "execute_result"
    }
   ],
   "source": [
    "np.mean(prediction - y)"
   ]
  },
  {
   "cell_type": "code",
   "execution_count": 129,
   "id": "b9a39094-8492-4b05-aca7-24c6a34d5f05",
   "metadata": {},
   "outputs": [],
   "source": [
    "class LinearRegression:\n",
    "    def __init__(self, x , y):\n",
    "        self.data = x\n",
    "        self.label = y\n",
    "        self.m = 0\n",
    "        self.b = 0\n",
    "        self.n = len(x)\n",
    "         \n",
    "    def fit(self , epochs , lr):\n",
    "         \n",
    "        #Implementing Gradient Descent\n",
    "        for i in range(epochs):\n",
    "            y_pred = self.m * self.data + self.b\n",
    "             \n",
    "            #Calculating derivatives w.r.t Parameters\n",
    "            D_m = (-2/self.n)*sum(self.data * (self.label - y_pred))\n",
    "            D_b = (-1/self.n)*sum(self.label-y_pred)\n",
    "             \n",
    "            #Updating Parameters\n",
    "            self.m = self.m - lr * D_m\n",
    "            self.c = self.b - lr * D_c\n",
    "             \n",
    "    def predict(self , inp):\n",
    "        y_pred = self.m * inp + self.b \n",
    "        return y_pred"
   ]
  },
  {
   "cell_type": "code",
   "execution_count": 130,
   "id": "899cc0d1-3480-449d-a845-f9a6fb97a5cc",
   "metadata": {},
   "outputs": [
    {
     "ename": "TypeError",
     "evalue": "__init__() missing 2 required positional arguments: 'x' and 'y'",
     "output_type": "error",
     "traceback": [
      "\u001b[0;31m---------------------------------------------------------------------------\u001b[0m",
      "\u001b[0;31mTypeError\u001b[0m                                 Traceback (most recent call last)",
      "\u001b[0;32m/tmp/ipykernel_3798/2505669298.py\u001b[0m in \u001b[0;36m<module>\u001b[0;34m\u001b[0m\n\u001b[0;32m----> 1\u001b[0;31m \u001b[0mlr\u001b[0m\u001b[0;34m=\u001b[0m \u001b[0mLinearRegression\u001b[0m\u001b[0;34m(\u001b[0m\u001b[0;34m)\u001b[0m\u001b[0;34m\u001b[0m\u001b[0;34m\u001b[0m\u001b[0m\n\u001b[0m\u001b[1;32m      2\u001b[0m \u001b[0mlr\u001b[0m\u001b[0;34m.\u001b[0m\u001b[0mfit\u001b[0m\u001b[0;34m(\u001b[0m\u001b[0mxtrain\u001b[0m\u001b[0;34m,\u001b[0m \u001b[0mytrain\u001b[0m\u001b[0;34m)\u001b[0m\u001b[0;34m\u001b[0m\u001b[0;34m\u001b[0m\u001b[0m\n\u001b[1;32m      3\u001b[0m \u001b[0mlr\u001b[0m\u001b[0;34m.\u001b[0m\u001b[0mpredict\u001b[0m\u001b[0;34m(\u001b[0m\u001b[0mxtest\u001b[0m\u001b[0;34m)\u001b[0m\u001b[0;34m\u001b[0m\u001b[0;34m\u001b[0m\u001b[0m\n",
      "\u001b[0;31mTypeError\u001b[0m: __init__() missing 2 required positional arguments: 'x' and 'y'"
     ]
    }
   ],
   "source": [
    "lr= LinearRegression(xtrain, ytrain)\n",
    "lr.fit(xtrain, ytrain, )\n",
    "lr.predict(xtest)"
   ]
  },
  {
   "cell_type": "code",
   "execution_count": null,
   "id": "8c9216cf-6c29-4941-bfb9-94bbea9c610a",
   "metadata": {},
   "outputs": [],
   "source": []
  }
 ],
 "metadata": {
  "kernelspec": {
   "display_name": "Python 3 (ipykernel)",
   "language": "python",
   "name": "python3"
  },
  "language_info": {
   "codemirror_mode": {
    "name": "ipython",
    "version": 3
   },
   "file_extension": ".py",
   "mimetype": "text/x-python",
   "name": "python",
   "nbconvert_exporter": "python",
   "pygments_lexer": "ipython3",
   "version": "3.9.13"
  }
 },
 "nbformat": 4,
 "nbformat_minor": 5
}
