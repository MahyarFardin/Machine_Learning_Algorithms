{
 "cells": [
  {
   "cell_type": "code",
   "execution_count": 2,
   "id": "cb98f891-864b-4615-a6f1-6e50780eea1f",
   "metadata": {},
   "outputs": [],
   "source": [
    "import numpy as np\n",
    "import matplotlib.pyplot as plt"
   ]
  },
  {
   "cell_type": "code",
   "execution_count": 8,
   "id": "28f8f2b8-32ac-4a3a-8a0d-7a17f59f3f45",
   "metadata": {},
   "outputs": [],
   "source": [
    "def polynomial_regression(x, y, deg, lr, epochs):\n",
    "    w = np.zeros(deg)\n",
    "    b = 0\n",
    "    \n",
    "    for i in range(epochs):\n",
    "        prediction = np.polyval(np.append(w, b), x) \n",
    "        print(w, b)\n",
    "        error = prediction - y\n",
    "        # gradient calculation\n",
    "        w_gradient = (1 / len(x)) * np.dot(x.T, error)\n",
    "        b_gradient = (1 / len(x)) * np.sum(error)\n",
    "        # applying gradient descent\n",
    "        w -= lr * w_gradient\n",
    "        b -= lr * b_gradient\n",
    "    return w, b"
   ]
  },
  {
   "cell_type": "code",
   "execution_count": 9,
   "id": "a22b4581-0f5b-4ea6-83b9-2062cc6743de",
   "metadata": {},
   "outputs": [
    {
     "name": "stdout",
     "output_type": "stream",
     "text": [
      "5\n",
      "[0.09148859 0.31120395 0.91241618 0.43821872 0.49955532]\n"
     ]
    }
   ],
   "source": [
    "deg = np.random.randint(2, 10)\n",
    "x = np.linspace(-100, 100, 201)\n",
    "coeffs = np.random.rand(deg)\n",
    "y = np.polyval(coeffs, x) \n",
    "print(deg)\n",
    "print(coeffs)"
   ]
  },
  {
   "cell_type": "code",
   "execution_count": 10,
   "id": "f6f7c555-f364-4741-a88b-e5e6457dfe3b",
   "metadata": {},
   "outputs": [
    {
     "data": {
      "text/plain": [
       "<matplotlib.collections.PathCollection at 0x7fd16023c550>"
      ]
     },
     "execution_count": 10,
     "metadata": {},
     "output_type": "execute_result"
    },
    {
     "data": {
      "image/png": "[encoded data removed]",
      "text/plain": [
       "<Figure size 640x480 with 1 Axes>"
      ]
     },
     "metadata": {},
     "output_type": "display_data"
    }
   ],
   "source": [
    "plt.scatter(x, y)"
   ]
  },
  {
   "cell_type": "code",
   "execution_count": 11,
   "id": "e08e7325-ed5c-4000-b3e6-5090901603d4",
   "metadata": {},
   "outputs": [],
   "source": [
    "lim = 180\n",
    "xtrain, ytrain, xtest, ytest = x[: lim], y[: lim], x[lim: ], y[lim: ]"
   ]
  },
  {
   "cell_type": "code",
   "execution_count": 15,
   "id": "1a5ae152-b6a2-4839-9ee9-d378d4a665d1",
   "metadata": {},
   "outputs": [
    {
     "name": "stdout",
     "output_type": "stream",
     "text": [
      "[0. 0. 0. 0. 0.] 0\n",
      "[-61.32624878 -61.32624878 -61.32624878 -61.32624878 -61.32624878] 1.3406326283961985\n",
      "[5972455.44678184 5972455.44678184 5972455.44678184 5972455.44678184\n",
      " 5972455.44678184] -43255.70600865889\n",
      "[-5.81652898e+11 -5.81652898e+11 -5.81652898e+11 -5.81652898e+11\n",
      " -5.81652898e+11] 4212814955.9371753\n",
      "[5.66467338e+16 5.66467338e+16 5.66467338e+16 5.66467338e+16\n",
      " 5.66467338e+16] -410282847388944.1\n",
      "[-5.51678237e+21 -5.51678237e+21 -5.51678237e+21 -5.51678237e+21\n",
      " -5.51678237e+21] 3.995713477322562e+19\n",
      "[5.37275243e+26 5.37275243e+26 5.37275243e+26 5.37275243e+26\n",
      " 5.37275243e+26] -3.891394996028597e+24\n",
      "[-5.23248277e+31 -5.23248277e+31 -5.23248277e+31 -5.23248277e+31\n",
      " -5.23248277e+31] 3.789800019710964e+29\n",
      "[5.09587521e+36 5.09587521e+36 5.09587521e+36 5.09587521e+36\n",
      " 5.09587521e+36] -3.690857444196516e+34\n",
      "[-4.96283415e+41 -4.96283415e+41 -4.96283415e+41 -4.96283415e+41\n",
      " -4.96283415e+41] 3.59449802167128e+39\n",
      "[4.83326647e+46 4.83326647e+46 4.83326647e+46 4.83326647e+46\n",
      " 4.83326647e+46] -3.500654312215373e+44\n",
      "[-4.70708149e+51 -4.70708149e+51 -4.70708149e+51 -4.70708149e+51\n",
      " -4.70708149e+51] 3.409260636603231e+49\n",
      "[4.5841909e+56 4.5841909e+56 4.5841909e+56 4.5841909e+56 4.5841909e+56] -3.3202530303361126e+54\n",
      "[-4.46450869e+61 -4.46450869e+61 -4.46450869e+61 -4.46450869e+61\n",
      " -4.46450869e+61] 3.233569198874694e+59\n",
      "[4.34795109e+66 4.34795109e+66 4.34795109e+66 4.34795109e+66\n",
      " 4.34795109e+66] -3.149148474040443e+64\n",
      "[-4.23443653e+71 -4.23443653e+71 -4.23443653e+71 -4.23443653e+71\n",
      " -4.23443653e+71] 3.066931771555249e+69\n",
      "[4.12388556e+76 4.12388556e+76 4.12388556e+76 4.12388556e+76\n",
      " 4.12388556e+76] -2.986861549689582e+74\n",
      "[-4.01622082e+81 -4.01622082e+81 -4.01622082e+81 -4.01622082e+81\n",
      " -4.01622082e+81] 2.9088817689902577e+79\n",
      "[3.91136694e+86 3.91136694e+86 3.91136694e+86 3.91136694e+86\n",
      " 3.91136694e+86] -2.8329378530596042e+84\n",
      "[-3.80925054e+91 -3.80925054e+91 -3.80925054e+91 -3.80925054e+91\n",
      " -3.80925054e+91] 2.758976650358605e+89\n",
      "[3.70980016e+96 3.70980016e+96 3.70980016e+96 3.70980016e+96\n",
      " 3.70980016e+96] -2.686946397007262e+94\n",
      "[-3.61294619e+101 -3.61294619e+101 -3.61294619e+101 -3.61294619e+101\n",
      " -3.61294619e+101] 2.616796680556144e+99\n",
      "[3.51862084e+106 3.51862084e+106 3.51862084e+106 3.51862084e+106\n",
      " 3.51862084e+106] -2.5484784047037858e+104\n",
      "[-3.4267581e+111 -3.4267581e+111 -3.4267581e+111 -3.4267581e+111\n",
      " -3.4267581e+111] 2.4819437549352267e+109\n",
      "[3.33729368e+116 3.33729368e+116 3.33729368e+116 3.33729368e+116\n",
      " 3.33729368e+116] -2.4171461650576425e+114\n",
      "[-3.25016496e+121 -3.25016496e+121 -3.25016496e+121 -3.25016496e+121\n",
      " -3.25016496e+121] 2.3540402846096513e+119\n",
      "[3.16531096e+126 3.16531096e+126 3.16531096e+126 3.16531096e+126\n",
      " 3.16531096e+126] -2.2925819471214876e+124\n",
      "[-3.08267229e+131 -3.08267229e+131 -3.08267229e+131 -3.08267229e+131\n",
      " -3.08267229e+131] 2.2327281392038265e+129\n",
      "[3.00219112e+136 3.00219112e+136 3.00219112e+136 3.00219112e+136\n",
      " 3.00219112e+136] -2.17443697044362e+134\n",
      "[-2.92381112e+141 -2.92381112e+141 -2.92381112e+141 -2.92381112e+141\n",
      " -2.92381112e+141] 2.1176676440858834e+139\n",
      "[2.84747744e+146 2.84747744e+146 2.84747744e+146 2.84747744e+146\n",
      " 2.84747744e+146] -2.0623804284809162e+144\n",
      "[-2.77313664e+151 -2.77313664e+151 -2.77313664e+151 -2.77313664e+151\n",
      " -2.77313664e+151] 2.008536629276952e+149\n",
      "[2.70073671e+156 2.70073671e+156 2.70073671e+156 2.70073671e+156\n",
      " 2.70073671e+156] -1.956098562338812e+154\n",
      "[-2.63022696e+161 -2.63022696e+161 -2.63022696e+161 -2.63022696e+161\n",
      " -2.63022696e+161] 1.9050295273735655e+159\n",
      "[2.56155805e+166 2.56155805e+166 2.56155805e+166 2.56155805e+166\n",
      " 2.56155805e+166] -1.855293782244779e+164\n",
      "[-2.49468192e+171 -2.49468192e+171 -2.49468192e+171 -2.49468192e+171\n",
      " -2.49468192e+171] 1.806856517957351e+169\n",
      "[2.42955177e+176 2.42955177e+176 2.42955177e+176 2.42955177e+176\n",
      " 2.42955177e+176] -1.7596838342954293e+174\n",
      "[-2.36612201e+181 -2.36612201e+181 -2.36612201e+181 -2.36612201e+181\n",
      " -2.36612201e+181] 1.7137427160963732e+179\n",
      "[2.30434825e+186 2.30434825e+186 2.30434825e+186 2.30434825e+186\n",
      " 2.30434825e+186] -1.6690010101441331e+184\n",
      "[-2.24418725e+191 -2.24418725e+191 -2.24418725e+191 -2.24418725e+191\n",
      " -2.24418725e+191] 1.6254274026659024e+189\n",
      "[2.18559691e+196 2.18559691e+196 2.18559691e+196 2.18559691e+196\n",
      " 2.18559691e+196] -1.5829913974162662e+194\n",
      "[-2.12853622e+201 -2.12853622e+201 -2.12853622e+201 -2.12853622e+201\n",
      " -2.12853622e+201] 1.5416632943335266e+199\n",
      "[2.07296526e+206 2.07296526e+206 2.07296526e+206 2.07296526e+206\n",
      " 2.07296526e+206] -1.5014141687532582e+204\n",
      "[-2.01884511e+211 -2.01884511e+211 -2.01884511e+211 -2.01884511e+211\n",
      " -2.01884511e+211] 1.4622158511645475e+209\n",
      "[1.96613792e+216 1.96613792e+216 1.96613792e+216 1.96613792e+216\n",
      " 1.96613792e+216] -1.4240409074947485e+214\n",
      "[-1.91480678e+221 -1.91480678e+221 -1.91480678e+221 -1.91480678e+221\n",
      " -1.91480678e+221] 1.3868626199089533e+219\n",
      "[1.86481577e+226 1.86481577e+226 1.86481577e+226 1.86481577e+226\n",
      " 1.86481577e+226] -1.350654968110753e+224\n",
      "[-1.81612991e+231 -1.81612991e+231 -1.81612991e+231 -1.81612991e+231\n",
      " -1.81612991e+231] 1.315392611131174e+229\n",
      "[1.76871512e+236 1.76871512e+236 1.76871512e+236 1.76871512e+236\n",
      " 1.76871512e+236] -1.2810508695930754e+234\n",
      "[-1.72253822e+241 -1.72253822e+241 -1.72253822e+241 -1.72253822e+241\n",
      " -1.72253822e+241] 1.2476057084385747e+239\n",
      "[1.67756688e+246 1.67756688e+246 1.67756688e+246 1.67756688e+246\n",
      " 1.67756688e+246] -1.2150337201074184e+244\n",
      "[-1.63376964e+251 -1.63376964e+251 -1.63376964e+251 -1.63376964e+251\n",
      " -1.63376964e+251] 1.1833121081545274e+249\n",
      "[1.59111584e+256 1.59111584e+256 1.59111584e+256 1.59111584e+256\n",
      " 1.59111584e+256] -1.1524186712952477e+254\n",
      "[-1.54957563e+261 -1.54957563e+261 -1.54957563e+261 -1.54957563e+261\n",
      " -1.54957563e+261] 1.122331787867138e+259\n",
      "[1.50911993e+266 1.50911993e+266 1.50911993e+266 1.50911993e+266\n",
      " 1.50911993e+266] -1.093030400697432e+264\n",
      "[-1.46972043e+271 -1.46972043e+271 -1.46972043e+271 -1.46972043e+271\n",
      " -1.46972043e+271] 1.0644940023655639e+269\n",
      "[1.43134956e+276 1.43134956e+276 1.43134956e+276 1.43134956e+276\n",
      " 1.43134956e+276] -1.0367026208504608e+274\n",
      "[-1.39398046e+281 -1.39398046e+281 -1.39398046e+281 -1.39398046e+281\n",
      " -1.39398046e+281] 1.009636805552548e+279\n",
      "[1.35758698e+286 1.35758698e+286 1.35758698e+286 1.35758698e+286\n",
      " 1.35758698e+286] -9.832776136806854e+283\n",
      "[-1.32214365e+291 -1.32214365e+291 -1.32214365e+291 -1.32214365e+291\n",
      " -1.32214365e+291] 9.576065969945099e+288\n",
      "[1.28762565e+296 1.28762565e+296 1.28762565e+296 1.28762565e+296\n",
      " 1.28762565e+296] -9.32605788892902e+293\n",
      "[-inf -inf -inf -inf -inf] 9.08257691839542e+298\n",
      "[nan nan nan nan nan] nan\n",
      "[nan nan nan nan nan] nan\n",
      "[nan nan nan nan nan] nan\n",
      "[nan nan nan nan nan] nan\n",
      "[nan nan nan nan nan] nan\n",
      "[nan nan nan nan nan] nan\n",
      "[nan nan nan nan nan] nan\n",
      "[nan nan nan nan nan] nan\n",
      "[nan nan nan nan nan] nan\n",
      "[nan nan nan nan nan] nan\n",
      "[nan nan nan nan nan] nan\n",
      "[nan nan nan nan nan] nan\n",
      "[nan nan nan nan nan] nan\n",
      "[nan nan nan nan nan] nan\n",
      "[nan nan nan nan nan] nan\n",
      "[nan nan nan nan nan] nan\n",
      "[nan nan nan nan nan] nan\n",
      "[nan nan nan nan nan] nan\n",
      "[nan nan nan nan nan] nan\n",
      "[nan nan nan nan nan] nan\n",
      "[nan nan nan nan nan] nan\n",
      "[nan nan nan nan nan] nan\n",
      "[nan nan nan nan nan] nan\n",
      "[nan nan nan nan nan] nan\n",
      "[nan nan nan nan nan] nan\n",
      "[nan nan nan nan nan] nan\n",
      "[nan nan nan nan nan] nan\n",
      "[nan nan nan nan nan] nan\n",
      "[nan nan nan nan nan] nan\n",
      "[nan nan nan nan nan] nan\n",
      "[nan nan nan nan nan] nan\n",
      "[nan nan nan nan nan] nan\n",
      "[nan nan nan nan nan] nan\n",
      "[nan nan nan nan nan] nan\n",
      "[nan nan nan nan nan] nan\n",
      "[nan nan nan nan nan] nan\n",
      "[nan nan nan nan nan] nan\n",
      "[nan nan nan nan nan] nan\n"
     ]
    },
    {
     "name": "stderr",
     "output_type": "stream",
     "text": [
      "/home/mahyar/anaconda3/lib/python3.9/site-packages/numpy/lib/polynomial.py:771: RuntimeWarning: invalid value encountered in multiply\n",
      "  y = y * x + p[i]\n",
      "/home/mahyar/anaconda3/lib/python3.9/site-packages/numpy/lib/polynomial.py:771: RuntimeWarning: invalid value encountered in add\n",
      "  y = y * x + p[i]\n"
     ]
    }
   ],
   "source": [
    "w, b = polynomial_regression(xtrain, ytrain, deg, .000001, 100)"
   ]
  },
  {
   "cell_type": "code",
   "execution_count": 13,
   "id": "5681844d-8445-45bb-964c-d02ad4a642af",
   "metadata": {},
   "outputs": [],
   "source": [
    "prediction = np.polyval(np.append(w, b), x)"
   ]
  },
  {
   "cell_type": "code",
   "execution_count": 14,
   "id": "2cbb5578-6ef3-4ddf-b91a-8e4d090832b7",
   "metadata": {},
   "outputs": [
    {
     "data": {
      "text/plain": [
       "9.862132009757328e+53"
      ]
     },
     "execution_count": 14,
     "metadata": {},
     "output_type": "execute_result"
    }
   ],
   "source": [
    "np.mean(prediction - y)"
   ]
  },
  {
   "cell_type": "code",
   "execution_count": null,
   "id": "8c9216cf-6c29-4941-bfb9-94bbea9c610a",
   "metadata": {},
   "outputs": [],
   "source": []
  }
 ],
 "metadata": {
  "kernelspec": {
   "display_name": "Python 3 (ipykernel)",
   "language": "python",
   "name": "python3"
  },
  "language_info": {
   "codemirror_mode": {
    "name": "ipython",
    "version": 3
   },
   "file_extension": ".py",
   "mimetype": "text/x-python",
   "name": "python",
   "nbconvert_exporter": "python",
   "pygments_lexer": "ipython3",
   "version": "3.9.13"
  }
 },
 "nbformat": 4,
 "nbformat_minor": 5
}
